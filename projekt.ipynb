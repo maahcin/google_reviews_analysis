{
 "cells": [
  {
   "cell_type": "markdown",
   "id": "f541ef4b-5ba3-4fed-8d04-25ca42504837",
   "metadata": {
    "tags": []
   },
   "source": [
    "# Projektu laboratoryjnego - budowa modelu predykcyjnego z wykorzystaniem sieci neuronowych"
   ]
  },
  {
   "cell_type": "markdown",
   "id": "997adf4e-04f1-45f1-8bd1-a6446468d14a",
   "metadata": {
    "tags": []
   },
   "source": [
    "## Krzysztof Kowalski \n",
    "## Marcin Słyś\n"
   ]
  },
  {
   "cell_type": "markdown",
   "id": "2e5472bf-4b09-494e-8f7a-1d2c9515f819",
   "metadata": {},
   "source": [
    "### Celem naszego projektu była próba oceny restauracji bazując na analizie sentymentu w Google Opiniach.\n",
    "Analiza sentymentu wykonywana była przez zaimplementowany przez nas model. Poniżej znajduję się zaimplementowany przez nas kod wraz z opisami."
   ]
  },
  {
   "cell_type": "markdown",
   "id": "0635648e-1bb8-49b5-9b6b-02436d277cfc",
   "metadata": {},
   "source": [
    "### 0. Importowanie niezbędnych bibliotek"
   ]
  },
  {
   "cell_type": "markdown",
   "id": "078e8c06-98ea-48e1-8ee6-0fa594c5498a",
   "metadata": {},
   "source": [
    "NumPy i pandas do operacji na danych oraz przetwarzania tabelarycznego."
   ]
  },
  {
   "cell_type": "code",
   "execution_count": 1,
   "id": "8635191e-5b1c-432a-99a7-27cffb1f6fc9",
   "metadata": {
    "tags": []
   },
   "outputs": [],
   "source": [
    "import numpy as np\n",
    "import pandas as pd"
   ]
  },
  {
   "cell_type": "markdown",
   "id": "5f61adf1-ef14-432b-97f7-7d10bdba6cb9",
   "metadata": {},
   "source": [
    "Biblioteki do tłumaczenia tekstu za pomocą Helsinki-NLP MarianMT."
   ]
  },
  {
   "cell_type": "code",
   "execution_count": 2,
   "id": "3683a82b-f540-4deb-8274-ca903730495a",
   "metadata": {
    "tags": []
   },
   "outputs": [],
   "source": [
    "from transformers import MarianMTModel, MarianTokenizer"
   ]
  },
  {
   "cell_type": "markdown",
   "id": "809dca1b-66e4-4135-9bd3-03460f396007",
   "metadata": {},
   "source": [
    "TensorFlow do budowy i trenowania modelu sieci neuronowej."
   ]
  },
  {
   "cell_type": "code",
   "execution_count": 3,
   "id": "1a178868-f44c-4f06-98fb-fccd32023c6b",
   "metadata": {
    "tags": []
   },
   "outputs": [],
   "source": [
    "import tensorflow as tf\n",
    "from tensorflow.keras.models import Sequential\n",
    "from tensorflow.keras.layers import Embedding, LSTM, Dense, Dropout, Bidirectional\n",
    "from tensorflow.keras.preprocessing.text import Tokenizer\n",
    "from tensorflow.keras.preprocessing.sequence import pad_sequences"
   ]
  },
  {
   "cell_type": "markdown",
   "id": "2a46789f-ef86-4dbc-89e1-33bca311a02a",
   "metadata": {
    "tags": []
   },
   "source": [
    "Biblioteki do podziału danych i oceny skuteczności modelu."
   ]
  },
  {
   "cell_type": "code",
   "execution_count": 4,
   "id": "4d7e641a-6a99-4aae-aaf6-ea6ff1427933",
   "metadata": {
    "tags": []
   },
   "outputs": [],
   "source": [
    "from sklearn.model_selection import train_test_split\n",
    "from sklearn.metrics import classification_report"
   ]
  },
  {
   "cell_type": "markdown",
   "id": "9f70270c-d640-40e1-b36b-51a32bed05e5",
   "metadata": {},
   "source": [
    "Do zapisania finalnego modelu."
   ]
  },
  {
   "cell_type": "code",
   "execution_count": 5,
   "id": "3cac8bef-1a60-431c-aaa3-ca46083937ab",
   "metadata": {},
   "outputs": [],
   "source": [
    "import pickle"
   ]
  },
  {
   "cell_type": "markdown",
   "id": "b3f17070-7974-464c-9ee0-5710a0c1ae02",
   "metadata": {},
   "source": [
    "### 1. Wczytanie i przygotowanie danych\n",
    "Dane pozyskaliśmy z API skrapującego opinie z Google. Tym sposobem otrzymaliśmy plik csv. Który następnie odpowiednio przerobiliśmy, tak aby był odpowiednio dla modelu. Należało również przetłumaczyć opinie w języku polskim na angielski co poprawi skuteczność analizy modelu."
   ]
  },
  {
   "cell_type": "markdown",
   "id": "fa7d001a-0a68-4dac-8910-c43a2addb219",
   "metadata": {},
   "source": [
    "Wczytanie danych z pliku CSV."
   ]
  },
  {
   "cell_type": "code",
   "execution_count": null,
   "id": "6bdb9e70-143d-4a3f-a1f5-bcef3683beb3",
   "metadata": {
    "tags": []
   },
   "outputs": [],
   "source": [
    "dataset_filename = 'dataset_Google-Maps-Reviews-Scraper_2025-01-07_21-05-46-608.csv'\n",
    "df = pd.read_csv(dataset_filename, low_memory = False)"
   ]
  },
  {
   "cell_type": "markdown",
   "id": "092a1b75-4745-461a-adb3-08b7c6aedb9c",
   "metadata": {},
   "source": [
    "Przygotowanie danych - wybranie tylko interesujących kolumn z danych : **tytuł**, **miasto**, **adres**, **liczba gwiazdek**, **tekst opinii**, **przetłumaczony tekst opinii** i tworzenie kopii."
   ]
  },
  {
   "cell_type": "code",
   "execution_count": null,
   "id": "879dc5da-bdf9-4a7a-a102-23678b53b0a3",
   "metadata": {
    "tags": []
   },
   "outputs": [],
   "source": [
    "df_cut = df[['title', 'city', 'address', 'stars', 'text', 'textTranslated']].copy()"
   ]
  },
  {
   "cell_type": "markdown",
   "id": "ef3a1354-ac8a-4929-9395-017e2081d383",
   "metadata": {},
   "source": [
    "Dodanie nowej kolumny **text_PL** z odpowiednim wyborem danych."
   ]
  },
  {
   "cell_type": "code",
   "execution_count": null,
   "id": "a11ec860-faf9-4d95-ac4c-b35980fd34f5",
   "metadata": {
    "tags": []
   },
   "outputs": [],
   "source": [
    "df_cut['text_PL'] = df_cut['textTranslated'].where(df_cut['textTranslated'].notna(), df_cut['text'])"
   ]
  },
  {
   "cell_type": "markdown",
   "id": "47e7f9c9-ee9c-4f95-86d8-b05f06f7ff1e",
   "metadata": {},
   "source": [
    "Ustawienia pretrenowanego modelu do tłumaczenia."
   ]
  },
  {
   "cell_type": "code",
   "execution_count": null,
   "id": "1c8c90d1-fff2-4e62-ae6d-ec7e82bb6167",
   "metadata": {
    "tags": []
   },
   "outputs": [],
   "source": [
    "model_name = \"Helsinki-NLP/opus-mt-pl-en\"\n",
    "tokenizer = MarianTokenizer.from_pretrained(model_name)\n",
    "model = MarianMTModel.from_pretrained(model_name)"
   ]
  },
  {
   "cell_type": "markdown",
   "id": "e4044db4-d155-4e18-997e-da4a453889bb",
   "metadata": {},
   "source": [
    "Funkcja do tłumaczenia tekstu z języka polskiego na angielski."
   ]
  },
  {
   "cell_type": "code",
   "execution_count": null,
   "id": "9e5f83fb-5261-4f87-9608-d0c77070a19a",
   "metadata": {
    "tags": []
   },
   "outputs": [],
   "source": [
    "def translate_text(text):\n",
    "    inputs = tokenizer.encode(text, return_tensors = \"pt\", truncation = True)\n",
    "    outputs = model.generate(inputs, max_length = 1024, num_beams = 8, early_stopping = True)\n",
    "    return tokenizer.decode(outputs[0], skip_special_tokens = True)"
   ]
  },
  {
   "cell_type": "markdown",
   "id": "30725263-b7c4-4be3-98f6-1237461662c1",
   "metadata": {},
   "source": [
    "Usunięcie wierszy z brakującymi danymi w kolumnie **text_PL**."
   ]
  },
  {
   "cell_type": "code",
   "execution_count": null,
   "id": "9320e7be-0c91-4177-8e6e-63d42c032f06",
   "metadata": {},
   "outputs": [],
   "source": [
    "df_cut = df_cut.dropna(subset = ['text_PL'])"
   ]
  },
  {
   "cell_type": "markdown",
   "id": "1e2f1e13-970f-44cf-a2bd-2d0c3332af76",
   "metadata": {
    "tags": []
   },
   "source": [
    "Dodanie nowej kolumny z przetłumaczonym tekstem opinii na język angielski."
   ]
  },
  {
   "cell_type": "code",
   "execution_count": null,
   "id": "309fdda9-7156-4728-a073-9bb20521e95f",
   "metadata": {},
   "outputs": [],
   "source": [
    "df_cut['text_EN'] = df_cut['text_PL'].apply(translate_text)"
   ]
  },
  {
   "cell_type": "markdown",
   "id": "bbae2715-c84b-4105-90a8-6b865409b05c",
   "metadata": {},
   "source": [
    "Zapisanie przetworzonych danych do pliku CSV."
   ]
  },
  {
   "cell_type": "code",
   "execution_count": null,
   "id": "ffa89f22-8307-43aa-9baa-e88282833419",
   "metadata": {},
   "outputs": [],
   "source": [
    "df_cut.to_csv('dara_reviews.csv')"
   ]
  },
  {
   "cell_type": "markdown",
   "id": "1c77cd30-f992-4cde-9eb6-951ede359242",
   "metadata": {},
   "source": [
    "Wczytanie danych z zapisanych plików."
   ]
  },
  {
   "cell_type": "code",
   "execution_count": 6,
   "id": "8911bd52-2fab-47c9-8ddd-50f5ee881186",
   "metadata": {},
   "outputs": [],
   "source": [
    "df = pd.read_csv('dara_reviews.csv')"
   ]
  },
  {
   "cell_type": "markdown",
   "id": "fc0585bd-5a3a-4812-9ea3-3ec3657dc431",
   "metadata": {
    "tags": []
   },
   "source": [
    "Przypisanie tekstu i etykiet do zmiennych."
   ]
  },
  {
   "cell_type": "code",
   "execution_count": 7,
   "id": "57c4e329-3e8a-4a6b-991e-52ea71aa650d",
   "metadata": {},
   "outputs": [],
   "source": [
    "texts = df['text_EN'].astype(str)  # Teksty w języku angielskim\n",
    "df['label'] = df['stars'].apply(lambda x: 1 if x >= 4 else 0)  # Etykiety: 1 dla opinii pozytywnych, 0 dla negatywnych\n",
    "labels = df['label']"
   ]
  },
  {
   "cell_type": "markdown",
   "id": "aa3cdd5d-c409-48f0-89e7-5a740ef221af",
   "metadata": {
    "tags": []
   },
   "source": [
    "### 2. Tworzenie i testowanie modelu "
   ]
  },
  {
   "cell_type": "markdown",
   "id": "a38eecbe-82a7-4a0f-94bf-f6645b334b17",
   "metadata": {},
   "source": [
    "#### 2.1 Tokenizacja i przekształcenie tekstu na sekwencje liczbowych identyfikatorów"
   ]
  },
  {
   "cell_type": "code",
   "execution_count": 8,
   "id": "54cb3cc5-0c51-48b0-8013-f0b15223bc63",
   "metadata": {},
   "outputs": [],
   "source": [
    "max_words = 10000 # Maksymalna liczba unikalnych słów"
   ]
  },
  {
   "cell_type": "markdown",
   "id": "b0b9bd40-ebc5-4a54-9c11-00ea6e9b7e4d",
   "metadata": {},
   "source": [
    "Tokenizator z obsługą słów spoza słownika.\n",
    "\n",
    "Służy do zamiany tekstu na ciągi liczb reprezentujących słowa."
   ]
  },
  {
   "cell_type": "code",
   "execution_count": 9,
   "id": "03cff4f3-1881-4691-9d99-3d199e8a52fc",
   "metadata": {},
   "outputs": [],
   "source": [
    "tokenizer = Tokenizer(num_words = max_words, oov_token = \"<OOV>\")\n",
    "tokenizer.fit_on_texts(texts)\n",
    "sequences = tokenizer.texts_to_sequences(texts)"
   ]
  },
  {
   "cell_type": "markdown",
   "id": "326876d3-4b28-4cf7-af0c-2d1a57738962",
   "metadata": {},
   "source": [
    "Padding sekwencji: ujednolicenie długości tekstów."
   ]
  },
  {
   "cell_type": "code",
   "execution_count": 10,
   "id": "56c41006-8563-4415-93fc-99bd2c068434",
   "metadata": {},
   "outputs": [],
   "source": [
    "max_length = 100  # Maksymalna długość sekwencji tekstu"
   ]
  },
  {
   "cell_type": "code",
   "execution_count": 11,
   "id": "5770e10f-acee-43e9-afa2-c99bd3e65a53",
   "metadata": {
    "tags": []
   },
   "outputs": [],
   "source": [
    "X = pad_sequences(sequences, maxlen = max_length, padding = 'post', truncating = 'post')"
   ]
  },
  {
   "cell_type": "markdown",
   "id": "1d26c409-7641-4813-9eb0-d87f0e069110",
   "metadata": {},
   "source": [
    "#### 2.2 Podział danych na zbiory treningowy i testowy \n",
    "- trening **80%** danych\n",
    "- test **20%** danych"
   ]
  },
  {
   "cell_type": "code",
   "execution_count": 12,
   "id": "656fbb41-890b-4de4-aa29-03ece02e875e",
   "metadata": {},
   "outputs": [],
   "source": [
    "X_train, X_test, y_train, y_test = train_test_split(X, labels, test_size = 0.2, random_state = 42)"
   ]
  },
  {
   "cell_type": "markdown",
   "id": "f1aac4a8-0637-4851-820f-ecf3ae6d060c",
   "metadata": {},
   "source": [
    "#### 2.3 Budowa modelu"
   ]
  },
  {
   "cell_type": "code",
   "execution_count": 13,
   "id": "8da1054a-9812-4944-a581-6bae13e9ebba",
   "metadata": {},
   "outputs": [],
   "source": [
    "embedding_dim = 64  # Wymiar wektora osadzenia"
   ]
  },
  {
   "cell_type": "markdown",
   "id": "f790ac44-0285-4d10-af20-ae4177eb5128",
   "metadata": {},
   "source": [
    "Model składa się kolejno z:\n",
    "- Warstwy osadzenia słów\n",
    "- Dwukierunkowej warstwy LSTM z 64 jednostkami\n",
    "- Warstwy Dropout dla redukcji przeuczenia\n",
    "- Kolejnej warstwy dwukierunkowa LSTM z 32 jednostkami\n",
    "- Warstwy z funkcją aktywacji ReLU\n",
    "- Kolejnej warstwy Dropout dla redukcji przeuczenia\n",
    "- Wyjścia z aktywacją sigmoidalną dla klasyfikacji binarnej"
   ]
  },
  {
   "cell_type": "code",
   "execution_count": 14,
   "id": "f20fcef7-ab6b-4ee5-954a-e98b65f27693",
   "metadata": {},
   "outputs": [
    {
     "name": "stderr",
     "output_type": "stream",
     "text": [
      "C:\\Users\\Marcin\\anaconda3\\envs\\adwjp\\Lib\\site-packages\\keras\\src\\layers\\core\\embedding.py:90: UserWarning: Argument `input_length` is deprecated. Just remove it.\n",
      "  warnings.warn(\n"
     ]
    }
   ],
   "source": [
    "model = Sequential([\n",
    "    Embedding(max_words, embedding_dim, input_length = max_length),  \n",
    "    Bidirectional(LSTM(64, return_sequences = True)),  \n",
    "    Dropout(0.3), \n",
    "    Bidirectional(LSTM(32)),  \n",
    "    Dense(32, activation = 'relu'),  \n",
    "    Dropout(0.3), \n",
    "    Dense(1, activation = 'sigmoid')  \n",
    "])"
   ]
  },
  {
   "cell_type": "markdown",
   "id": "6f21a5b2-5b1e-4004-bfd7-40dad2b772c9",
   "metadata": {},
   "source": [
    "#### 2.4 Kompilacja modelu\n",
    "- Funkcja straty: **binary_crossentropy**\n",
    "- Optymalizator: **Adam**"
   ]
  },
  {
   "cell_type": "code",
   "execution_count": 15,
   "id": "3ce47cb7-2bef-428c-9c1a-4549f19d4029",
   "metadata": {},
   "outputs": [],
   "source": [
    "model.compile(loss='binary_crossentropy', optimizer = 'adam', metrics = ['accuracy'])"
   ]
  },
  {
   "cell_type": "markdown",
   "id": "f31789ba-797b-430f-9fb8-46f8277c568d",
   "metadata": {
    "tags": []
   },
   "source": [
    "#### 2.5 Trening modelu\n",
    "- Liczba epok: **10**\n",
    "- Wielkość batcha: **32**"
   ]
  },
  {
   "cell_type": "code",
   "execution_count": 16,
   "id": "9fae93fe-a491-497c-862d-c7365b43db58",
   "metadata": {},
   "outputs": [],
   "source": [
    "epochs = 10\n",
    "batch_size = 32"
   ]
  },
  {
   "cell_type": "code",
   "execution_count": 17,
   "id": "ae69c2f3-4df5-411e-80d0-ae9a9baa15f5",
   "metadata": {},
   "outputs": [
    {
     "name": "stdout",
     "output_type": "stream",
     "text": [
      "Epoch 1/10\n",
      "\u001b[1m97/97\u001b[0m \u001b[32m━━━━━━━━━━━━━━━━━━━━\u001b[0m\u001b[37m\u001b[0m \u001b[1m16s\u001b[0m 86ms/step - accuracy: 0.8044 - loss: 0.4456 - val_accuracy: 0.9071 - val_loss: 0.2143\n",
      "Epoch 2/10\n",
      "\u001b[1m97/97\u001b[0m \u001b[32m━━━━━━━━━━━━━━━━━━━━\u001b[0m\u001b[37m\u001b[0m \u001b[1m8s\u001b[0m 77ms/step - accuracy: 0.9215 - loss: 0.2081 - val_accuracy: 0.9252 - val_loss: 0.1980\n",
      "Epoch 3/10\n",
      "\u001b[1m97/97\u001b[0m \u001b[32m━━━━━━━━━━━━━━━━━━━━\u001b[0m\u001b[37m\u001b[0m \u001b[1m8s\u001b[0m 82ms/step - accuracy: 0.9431 - loss: 0.1505 - val_accuracy: 0.9290 - val_loss: 0.1878\n",
      "Epoch 4/10\n",
      "\u001b[1m97/97\u001b[0m \u001b[32m━━━━━━━━━━━━━━━━━━━━\u001b[0m\u001b[37m\u001b[0m \u001b[1m8s\u001b[0m 78ms/step - accuracy: 0.9831 - loss: 0.0612 - val_accuracy: 0.9355 - val_loss: 0.2096\n",
      "Epoch 5/10\n",
      "\u001b[1m97/97\u001b[0m \u001b[32m━━━━━━━━━━━━━━━━━━━━\u001b[0m\u001b[37m\u001b[0m \u001b[1m8s\u001b[0m 78ms/step - accuracy: 0.9861 - loss: 0.0413 - val_accuracy: 0.9290 - val_loss: 0.2228\n",
      "Epoch 6/10\n",
      "\u001b[1m97/97\u001b[0m \u001b[32m━━━━━━━━━━━━━━━━━━━━\u001b[0m\u001b[37m\u001b[0m \u001b[1m8s\u001b[0m 78ms/step - accuracy: 0.9949 - loss: 0.0211 - val_accuracy: 0.9303 - val_loss: 0.2672\n",
      "Epoch 7/10\n",
      "\u001b[1m97/97\u001b[0m \u001b[32m━━━━━━━━━━━━━━━━━━━━\u001b[0m\u001b[37m\u001b[0m \u001b[1m8s\u001b[0m 78ms/step - accuracy: 0.9895 - loss: 0.0273 - val_accuracy: 0.9265 - val_loss: 0.2673\n",
      "Epoch 8/10\n",
      "\u001b[1m97/97\u001b[0m \u001b[32m━━━━━━━━━━━━━━━━━━━━\u001b[0m\u001b[37m\u001b[0m \u001b[1m8s\u001b[0m 80ms/step - accuracy: 0.9946 - loss: 0.0190 - val_accuracy: 0.9239 - val_loss: 0.3103\n",
      "Epoch 9/10\n",
      "\u001b[1m97/97\u001b[0m \u001b[32m━━━━━━━━━━━━━━━━━━━━\u001b[0m\u001b[37m\u001b[0m \u001b[1m8s\u001b[0m 82ms/step - accuracy: 0.9976 - loss: 0.0108 - val_accuracy: 0.9252 - val_loss: 0.3468\n",
      "Epoch 10/10\n",
      "\u001b[1m97/97\u001b[0m \u001b[32m━━━━━━━━━━━━━━━━━━━━\u001b[0m\u001b[37m\u001b[0m \u001b[1m8s\u001b[0m 77ms/step - accuracy: 0.9996 - loss: 0.0053 - val_accuracy: 0.9277 - val_loss: 0.3651\n"
     ]
    }
   ],
   "source": [
    "history = model.fit(\n",
    "    X_train, y_train,\n",
    "    validation_split = 0.2, \n",
    "    epochs = epochs,\n",
    "    batch_size = batch_size,\n",
    "    verbose = 1\n",
    ")"
   ]
  },
  {
   "cell_type": "markdown",
   "id": "4da04044-d369-45df-b84d-192c8b1a3dbc",
   "metadata": {},
   "source": [
    "#### 2.6 Ocena modelu na zbiorze testowym"
   ]
  },
  {
   "cell_type": "code",
   "execution_count": 18,
   "id": "580ca490-8964-40ff-a67d-370cef04cfa3",
   "metadata": {},
   "outputs": [
    {
     "name": "stdout",
     "output_type": "stream",
     "text": [
      "\u001b[1m31/31\u001b[0m \u001b[32m━━━━━━━━━━━━━━━━━━━━\u001b[0m\u001b[37m\u001b[0m \u001b[1m1s\u001b[0m 22ms/step - accuracy: 0.9358 - loss: 0.3917\n",
      "Test Accuracy: 0.94\n"
     ]
    }
   ],
   "source": [
    "loss, accuracy = model.evaluate(X_test, y_test, verbose = 1)\n",
    "print(f\"Test Accuracy: {accuracy:.2f}\")"
   ]
  },
  {
   "cell_type": "markdown",
   "id": "c9903637-46b1-4af8-8a22-d3a8837c79d5",
   "metadata": {},
   "source": [
    "#### 2.7 Predykcja i raport klasyfikacji"
   ]
  },
  {
   "cell_type": "code",
   "execution_count": 19,
   "id": "5be27b8a-0612-4aee-8827-575fcb6c1279",
   "metadata": {},
   "outputs": [
    {
     "name": "stdout",
     "output_type": "stream",
     "text": [
      "\u001b[1m31/31\u001b[0m \u001b[32m━━━━━━━━━━━━━━━━━━━━\u001b[0m\u001b[37m\u001b[0m \u001b[1m2s\u001b[0m 50ms/step\n",
      "              precision    recall  f1-score   support\n",
      "\n",
      "           0       0.86      0.85      0.85       194\n",
      "           1       0.96      0.97      0.96       775\n",
      "\n",
      "    accuracy                           0.94       969\n",
      "   macro avg       0.91      0.91      0.91       969\n",
      "weighted avg       0.94      0.94      0.94       969\n",
      "\n"
     ]
    }
   ],
   "source": [
    "predictions = (model.predict(X_test) > 0.5).astype(int)\n",
    "print(classification_report(y_test, predictions))"
   ]
  },
  {
   "cell_type": "markdown",
   "id": "9f0afc0c-69bc-454e-84bc-ad93d0cfed5c",
   "metadata": {},
   "source": [
    "### 3. Sprawdzenie oraz weryfikacja otrzymanych rezultatów\n",
    "Tworzenie rankingu opinii na podstawie predykcji modelu.\n",
    "\n",
    "Grupowanie danych według adresu i liczenie średnich opinii."
   ]
  },
  {
   "cell_type": "code",
   "execution_count": 21,
   "id": "36f3a1f6-72c5-4cc8-87c5-27549f37d68f",
   "metadata": {},
   "outputs": [
    {
     "name": "stdout",
     "output_type": "stream",
     "text": [
      "\u001b[1m152/152\u001b[0m \u001b[32m━━━━━━━━━━━━━━━━━━━━\u001b[0m\u001b[37m\u001b[0m \u001b[1m3s\u001b[0m 22ms/step\n"
     ]
    }
   ],
   "source": [
    "df['model_opinion'] = (model.predict(X) > 0.5).astype(int)"
   ]
  },
  {
   "cell_type": "markdown",
   "id": "56362a90-976a-4455-9b79-cb11f808a213",
   "metadata": {},
   "source": [
    "#### 3.1 Ranking adresów na podstawie opinii przewidywanych przez model"
   ]
  },
  {
   "cell_type": "code",
   "execution_count": 22,
   "id": "019fef16-c83b-4ff4-a7ea-ed64fcc57136",
   "metadata": {},
   "outputs": [
    {
     "data": {
      "text/html": [
       "<div>\n",
       "<style scoped>\n",
       "    .dataframe tbody tr th:only-of-type {\n",
       "        vertical-align: middle;\n",
       "    }\n",
       "\n",
       "    .dataframe tbody tr th {\n",
       "        vertical-align: top;\n",
       "    }\n",
       "\n",
       "    .dataframe thead th {\n",
       "        text-align: right;\n",
       "    }\n",
       "</style>\n",
       "<table border=\"1\" class=\"dataframe\">\n",
       "  <thead>\n",
       "    <tr style=\"text-align: right;\">\n",
       "      <th></th>\n",
       "      <th>model_opinion</th>\n",
       "      <th>rank_opinion</th>\n",
       "    </tr>\n",
       "    <tr>\n",
       "      <th>address</th>\n",
       "      <th></th>\n",
       "      <th></th>\n",
       "    </tr>\n",
       "  </thead>\n",
       "  <tbody>\n",
       "    <tr>\n",
       "      <th>Aleja Majora Wacława Kopisto 1, 35-515 Rzeszów, Polska</th>\n",
       "      <td>0.968142</td>\n",
       "      <td>1</td>\n",
       "    </tr>\n",
       "    <tr>\n",
       "      <th>Generała Mariana Langiewicza 69, 35-021 Rzeszów, Polska</th>\n",
       "      <td>0.802817</td>\n",
       "      <td>8</td>\n",
       "    </tr>\n",
       "    <tr>\n",
       "      <th>Grunwaldzka 24, 35-068 Rzeszów, Polska</th>\n",
       "      <td>0.724944</td>\n",
       "      <td>11</td>\n",
       "    </tr>\n",
       "    <tr>\n",
       "      <th>Hetmańska 42, 35-078 Rzeszów, Polska</th>\n",
       "      <td>0.878906</td>\n",
       "      <td>4</td>\n",
       "    </tr>\n",
       "    <tr>\n",
       "      <th>Ignacego Łukasiewicza 78, 35-604 Rzeszów, Polska</th>\n",
       "      <td>0.896175</td>\n",
       "      <td>3</td>\n",
       "    </tr>\n",
       "    <tr>\n",
       "      <th>Jana Matejki 16, 35-060 Rzeszów, Polska</th>\n",
       "      <td>0.733612</td>\n",
       "      <td>10</td>\n",
       "    </tr>\n",
       "    <tr>\n",
       "      <th>Kwiatkowskiego, 35-311 Rzeszów, Polska</th>\n",
       "      <td>0.670659</td>\n",
       "      <td>13</td>\n",
       "    </tr>\n",
       "    <tr>\n",
       "      <th>Leska 2, 35-505 Rzeszów, Polska</th>\n",
       "      <td>0.814433</td>\n",
       "      <td>7</td>\n",
       "    </tr>\n",
       "    <tr>\n",
       "      <th>Obrońców Poczty Gdańskiej 14, 35-509 Rzeszów, Polska</th>\n",
       "      <td>0.719880</td>\n",
       "      <td>12</td>\n",
       "    </tr>\n",
       "    <tr>\n",
       "      <th>Podkarpacka 12A, 35-082 Rzeszów, Polska</th>\n",
       "      <td>0.920000</td>\n",
       "      <td>2</td>\n",
       "    </tr>\n",
       "    <tr>\n",
       "      <th>Rynek 18, 35-064 Rzeszów, Polska</th>\n",
       "      <td>0.834772</td>\n",
       "      <td>5</td>\n",
       "    </tr>\n",
       "    <tr>\n",
       "      <th>Witolda 8b, 35-302 Rzeszów, Polska</th>\n",
       "      <td>0.820312</td>\n",
       "      <td>6</td>\n",
       "    </tr>\n",
       "    <tr>\n",
       "      <th>al. Tadeusza Rejtana 69, 35-001 Rzeszów, Polska</th>\n",
       "      <td>0.751634</td>\n",
       "      <td>9</td>\n",
       "    </tr>\n",
       "  </tbody>\n",
       "</table>\n",
       "</div>"
      ],
      "text/plain": [
       "                                                    model_opinion   \n",
       "address                                                             \n",
       "Aleja Majora Wacława Kopisto 1, 35-515 Rzeszów,...       0.968142  \\\n",
       "Generała Mariana Langiewicza 69, 35-021 Rzeszów...       0.802817   \n",
       "Grunwaldzka 24, 35-068 Rzeszów, Polska                   0.724944   \n",
       "Hetmańska 42, 35-078 Rzeszów, Polska                     0.878906   \n",
       "Ignacego Łukasiewicza 78, 35-604 Rzeszów, Polska         0.896175   \n",
       "Jana Matejki 16, 35-060 Rzeszów, Polska                  0.733612   \n",
       "Kwiatkowskiego, 35-311 Rzeszów, Polska                   0.670659   \n",
       "Leska 2, 35-505 Rzeszów, Polska                          0.814433   \n",
       "Obrońców Poczty Gdańskiej 14, 35-509 Rzeszów, P...       0.719880   \n",
       "Podkarpacka 12A, 35-082 Rzeszów, Polska                  0.920000   \n",
       "Rynek 18, 35-064 Rzeszów, Polska                         0.834772   \n",
       "Witolda 8b, 35-302 Rzeszów, Polska                       0.820312   \n",
       "al. Tadeusza Rejtana 69, 35-001 Rzeszów, Polska          0.751634   \n",
       "\n",
       "                                                    rank_opinion  \n",
       "address                                                           \n",
       "Aleja Majora Wacława Kopisto 1, 35-515 Rzeszów,...             1  \n",
       "Generała Mariana Langiewicza 69, 35-021 Rzeszów...             8  \n",
       "Grunwaldzka 24, 35-068 Rzeszów, Polska                        11  \n",
       "Hetmańska 42, 35-078 Rzeszów, Polska                           4  \n",
       "Ignacego Łukasiewicza 78, 35-604 Rzeszów, Polska               3  \n",
       "Jana Matejki 16, 35-060 Rzeszów, Polska                       10  \n",
       "Kwiatkowskiego, 35-311 Rzeszów, Polska                        13  \n",
       "Leska 2, 35-505 Rzeszów, Polska                                7  \n",
       "Obrońców Poczty Gdańskiej 14, 35-509 Rzeszów, P...            12  \n",
       "Podkarpacka 12A, 35-082 Rzeszów, Polska                        2  \n",
       "Rynek 18, 35-064 Rzeszów, Polska                               5  \n",
       "Witolda 8b, 35-302 Rzeszów, Polska                             6  \n",
       "al. Tadeusza Rejtana 69, 35-001 Rzeszów, Polska                9  "
      ]
     },
     "execution_count": 22,
     "metadata": {},
     "output_type": "execute_result"
    }
   ],
   "source": [
    "df_opinions = pd.DataFrame(df.groupby('address').sum('model_opinion')['model_opinion'] / df.groupby('address').count()['model_opinion'])\n",
    "df_opinions['rank_opinion'] = df_opinions['model_opinion'].rank(method='dense', ascending = False).astype(int)\n",
    "df_opinions"
   ]
  },
  {
   "cell_type": "markdown",
   "id": "634656f3-d583-4736-9500-4bd98307b91c",
   "metadata": {},
   "source": [
    "#### 3.2 Ranking adresów na podstawie średniej liczby gwiazdek"
   ]
  },
  {
   "cell_type": "code",
   "execution_count": 23,
   "id": "9fa7555c-b36d-4fd4-af27-67999b7cb2f5",
   "metadata": {},
   "outputs": [
    {
     "data": {
      "text/html": [
       "<div>\n",
       "<style scoped>\n",
       "    .dataframe tbody tr th:only-of-type {\n",
       "        vertical-align: middle;\n",
       "    }\n",
       "\n",
       "    .dataframe tbody tr th {\n",
       "        vertical-align: top;\n",
       "    }\n",
       "\n",
       "    .dataframe thead th {\n",
       "        text-align: right;\n",
       "    }\n",
       "</style>\n",
       "<table border=\"1\" class=\"dataframe\">\n",
       "  <thead>\n",
       "    <tr style=\"text-align: right;\">\n",
       "      <th></th>\n",
       "      <th>stars</th>\n",
       "      <th>rank_stars</th>\n",
       "    </tr>\n",
       "    <tr>\n",
       "      <th>address</th>\n",
       "      <th></th>\n",
       "      <th></th>\n",
       "    </tr>\n",
       "  </thead>\n",
       "  <tbody>\n",
       "    <tr>\n",
       "      <th>Aleja Majora Wacława Kopisto 1, 35-515 Rzeszów, Polska</th>\n",
       "      <td>4.883186</td>\n",
       "      <td>1</td>\n",
       "    </tr>\n",
       "    <tr>\n",
       "      <th>Generała Mariana Langiewicza 69, 35-021 Rzeszów, Polska</th>\n",
       "      <td>4.239437</td>\n",
       "      <td>8</td>\n",
       "    </tr>\n",
       "    <tr>\n",
       "      <th>Grunwaldzka 24, 35-068 Rzeszów, Polska</th>\n",
       "      <td>4.027840</td>\n",
       "      <td>9</td>\n",
       "    </tr>\n",
       "    <tr>\n",
       "      <th>Hetmańska 42, 35-078 Rzeszów, Polska</th>\n",
       "      <td>4.605469</td>\n",
       "      <td>3</td>\n",
       "    </tr>\n",
       "    <tr>\n",
       "      <th>Ignacego Łukasiewicza 78, 35-604 Rzeszów, Polska</th>\n",
       "      <td>4.573770</td>\n",
       "      <td>4</td>\n",
       "    </tr>\n",
       "    <tr>\n",
       "      <th>Jana Matejki 16, 35-060 Rzeszów, Polska</th>\n",
       "      <td>3.993026</td>\n",
       "      <td>11</td>\n",
       "    </tr>\n",
       "    <tr>\n",
       "      <th>Kwiatkowskiego, 35-311 Rzeszów, Polska</th>\n",
       "      <td>3.688623</td>\n",
       "      <td>13</td>\n",
       "    </tr>\n",
       "    <tr>\n",
       "      <th>Leska 2, 35-505 Rzeszów, Polska</th>\n",
       "      <td>4.311856</td>\n",
       "      <td>6</td>\n",
       "    </tr>\n",
       "    <tr>\n",
       "      <th>Obrońców Poczty Gdańskiej 14, 35-509 Rzeszów, Polska</th>\n",
       "      <td>3.960843</td>\n",
       "      <td>12</td>\n",
       "    </tr>\n",
       "    <tr>\n",
       "      <th>Podkarpacka 12A, 35-082 Rzeszów, Polska</th>\n",
       "      <td>4.725714</td>\n",
       "      <td>2</td>\n",
       "    </tr>\n",
       "    <tr>\n",
       "      <th>Rynek 18, 35-064 Rzeszów, Polska</th>\n",
       "      <td>4.368681</td>\n",
       "      <td>5</td>\n",
       "    </tr>\n",
       "    <tr>\n",
       "      <th>Witolda 8b, 35-302 Rzeszów, Polska</th>\n",
       "      <td>4.281250</td>\n",
       "      <td>7</td>\n",
       "    </tr>\n",
       "    <tr>\n",
       "      <th>al. Tadeusza Rejtana 69, 35-001 Rzeszów, Polska</th>\n",
       "      <td>4.019608</td>\n",
       "      <td>10</td>\n",
       "    </tr>\n",
       "  </tbody>\n",
       "</table>\n",
       "</div>"
      ],
      "text/plain": [
       "                                                       stars  rank_stars\n",
       "address                                                                 \n",
       "Aleja Majora Wacława Kopisto 1, 35-515 Rzeszów,...  4.883186           1\n",
       "Generała Mariana Langiewicza 69, 35-021 Rzeszów...  4.239437           8\n",
       "Grunwaldzka 24, 35-068 Rzeszów, Polska              4.027840           9\n",
       "Hetmańska 42, 35-078 Rzeszów, Polska                4.605469           3\n",
       "Ignacego Łukasiewicza 78, 35-604 Rzeszów, Polska    4.573770           4\n",
       "Jana Matejki 16, 35-060 Rzeszów, Polska             3.993026          11\n",
       "Kwiatkowskiego, 35-311 Rzeszów, Polska              3.688623          13\n",
       "Leska 2, 35-505 Rzeszów, Polska                     4.311856           6\n",
       "Obrońców Poczty Gdańskiej 14, 35-509 Rzeszów, P...  3.960843          12\n",
       "Podkarpacka 12A, 35-082 Rzeszów, Polska             4.725714           2\n",
       "Rynek 18, 35-064 Rzeszów, Polska                    4.368681           5\n",
       "Witolda 8b, 35-302 Rzeszów, Polska                  4.281250           7\n",
       "al. Tadeusza Rejtana 69, 35-001 Rzeszów, Polska     4.019608          10"
      ]
     },
     "execution_count": 23,
     "metadata": {},
     "output_type": "execute_result"
    }
   ],
   "source": [
    "df_stars = pd.DataFrame(df.groupby('address').mean('stars')['stars'])\n",
    "df_stars['rank_stars'] = df_stars['stars'].rank(method='dense', ascending = False).astype(int)\n",
    "df_stars"
   ]
  },
  {
   "cell_type": "markdown",
   "id": "f581fc45-bd48-4404-880c-25e91b903ee4",
   "metadata": {},
   "source": [
    "#### 3.3 Połączenie wyników w jeden DataFrame"
   ]
  },
  {
   "cell_type": "code",
   "execution_count": 24,
   "id": "4feaf2d1-30a4-401a-b2ca-930241faeb3f",
   "metadata": {},
   "outputs": [],
   "source": [
    "merged_df = pd.merge(df_opinions, df_stars, left_index = True, right_index = True)"
   ]
  },
  {
   "cell_type": "markdown",
   "id": "44653d6b-fc6f-4856-b07d-35c51f4ad859",
   "metadata": {},
   "source": [
    "Liczba opinii na adres."
   ]
  },
  {
   "cell_type": "code",
   "execution_count": 26,
   "id": "04d868cb-cdd2-425a-af71-795575c57d44",
   "metadata": {},
   "outputs": [],
   "source": [
    "merged_df['opinions_count'] = df.groupby('address').count()['title']"
   ]
  },
  {
   "cell_type": "markdown",
   "id": "0e506df7-f7fb-4b64-b397-a89cacde7c65",
   "metadata": {},
   "source": [
    "Normalizacja gwiazdek do zakresu [0, 1]."
   ]
  },
  {
   "cell_type": "code",
   "execution_count": 27,
   "id": "84952320-3702-4724-8da1-ac748864099d",
   "metadata": {},
   "outputs": [],
   "source": [
    "merged_df['stars_normalized'] = merged_df['stars'] / 5"
   ]
  },
  {
   "cell_type": "markdown",
   "id": "b9892366-c2d3-41ee-9766-8d5cef6751b6",
   "metadata": {},
   "source": [
    "Sortowanie według rankingu opinii."
   ]
  },
  {
   "cell_type": "code",
   "execution_count": 28,
   "id": "9a9da388-6b22-4885-8980-c6a0c652b444",
   "metadata": {},
   "outputs": [
    {
     "data": {
      "text/html": [
       "<div>\n",
       "<style scoped>\n",
       "    .dataframe tbody tr th:only-of-type {\n",
       "        vertical-align: middle;\n",
       "    }\n",
       "\n",
       "    .dataframe tbody tr th {\n",
       "        vertical-align: top;\n",
       "    }\n",
       "\n",
       "    .dataframe thead th {\n",
       "        text-align: right;\n",
       "    }\n",
       "</style>\n",
       "<table border=\"1\" class=\"dataframe\">\n",
       "  <thead>\n",
       "    <tr style=\"text-align: right;\">\n",
       "      <th></th>\n",
       "      <th>model_opinion</th>\n",
       "      <th>rank_opinion</th>\n",
       "      <th>stars</th>\n",
       "      <th>rank_stars</th>\n",
       "      <th>opinions_count</th>\n",
       "      <th>stars_normalized</th>\n",
       "    </tr>\n",
       "    <tr>\n",
       "      <th>address</th>\n",
       "      <th></th>\n",
       "      <th></th>\n",
       "      <th></th>\n",
       "      <th></th>\n",
       "      <th></th>\n",
       "      <th></th>\n",
       "    </tr>\n",
       "  </thead>\n",
       "  <tbody>\n",
       "    <tr>\n",
       "      <th>Aleja Majora Wacława Kopisto 1, 35-515 Rzeszów, Polska</th>\n",
       "      <td>0.968142</td>\n",
       "      <td>1</td>\n",
       "      <td>4.883186</td>\n",
       "      <td>1</td>\n",
       "      <td>565</td>\n",
       "      <td>0.976637</td>\n",
       "    </tr>\n",
       "    <tr>\n",
       "      <th>Podkarpacka 12A, 35-082 Rzeszów, Polska</th>\n",
       "      <td>0.920000</td>\n",
       "      <td>2</td>\n",
       "      <td>4.725714</td>\n",
       "      <td>2</td>\n",
       "      <td>175</td>\n",
       "      <td>0.945143</td>\n",
       "    </tr>\n",
       "    <tr>\n",
       "      <th>Ignacego Łukasiewicza 78, 35-604 Rzeszów, Polska</th>\n",
       "      <td>0.896175</td>\n",
       "      <td>3</td>\n",
       "      <td>4.573770</td>\n",
       "      <td>4</td>\n",
       "      <td>183</td>\n",
       "      <td>0.914754</td>\n",
       "    </tr>\n",
       "    <tr>\n",
       "      <th>Hetmańska 42, 35-078 Rzeszów, Polska</th>\n",
       "      <td>0.878906</td>\n",
       "      <td>4</td>\n",
       "      <td>4.605469</td>\n",
       "      <td>3</td>\n",
       "      <td>256</td>\n",
       "      <td>0.921094</td>\n",
       "    </tr>\n",
       "    <tr>\n",
       "      <th>Rynek 18, 35-064 Rzeszów, Polska</th>\n",
       "      <td>0.834772</td>\n",
       "      <td>5</td>\n",
       "      <td>4.368681</td>\n",
       "      <td>5</td>\n",
       "      <td>811</td>\n",
       "      <td>0.873736</td>\n",
       "    </tr>\n",
       "    <tr>\n",
       "      <th>Witolda 8b, 35-302 Rzeszów, Polska</th>\n",
       "      <td>0.820312</td>\n",
       "      <td>6</td>\n",
       "      <td>4.281250</td>\n",
       "      <td>7</td>\n",
       "      <td>128</td>\n",
       "      <td>0.856250</td>\n",
       "    </tr>\n",
       "    <tr>\n",
       "      <th>Leska 2, 35-505 Rzeszów, Polska</th>\n",
       "      <td>0.814433</td>\n",
       "      <td>7</td>\n",
       "      <td>4.311856</td>\n",
       "      <td>6</td>\n",
       "      <td>388</td>\n",
       "      <td>0.862371</td>\n",
       "    </tr>\n",
       "    <tr>\n",
       "      <th>Generała Mariana Langiewicza 69, 35-021 Rzeszów, Polska</th>\n",
       "      <td>0.802817</td>\n",
       "      <td>8</td>\n",
       "      <td>4.239437</td>\n",
       "      <td>8</td>\n",
       "      <td>71</td>\n",
       "      <td>0.847887</td>\n",
       "    </tr>\n",
       "    <tr>\n",
       "      <th>al. Tadeusza Rejtana 69, 35-001 Rzeszów, Polska</th>\n",
       "      <td>0.751634</td>\n",
       "      <td>9</td>\n",
       "      <td>4.019608</td>\n",
       "      <td>10</td>\n",
       "      <td>153</td>\n",
       "      <td>0.803922</td>\n",
       "    </tr>\n",
       "    <tr>\n",
       "      <th>Jana Matejki 16, 35-060 Rzeszów, Polska</th>\n",
       "      <td>0.733612</td>\n",
       "      <td>10</td>\n",
       "      <td>3.993026</td>\n",
       "      <td>11</td>\n",
       "      <td>717</td>\n",
       "      <td>0.798605</td>\n",
       "    </tr>\n",
       "    <tr>\n",
       "      <th>Grunwaldzka 24, 35-068 Rzeszów, Polska</th>\n",
       "      <td>0.724944</td>\n",
       "      <td>11</td>\n",
       "      <td>4.027840</td>\n",
       "      <td>9</td>\n",
       "      <td>898</td>\n",
       "      <td>0.805568</td>\n",
       "    </tr>\n",
       "    <tr>\n",
       "      <th>Obrońców Poczty Gdańskiej 14, 35-509 Rzeszów, Polska</th>\n",
       "      <td>0.719880</td>\n",
       "      <td>12</td>\n",
       "      <td>3.960843</td>\n",
       "      <td>12</td>\n",
       "      <td>332</td>\n",
       "      <td>0.792169</td>\n",
       "    </tr>\n",
       "    <tr>\n",
       "      <th>Kwiatkowskiego, 35-311 Rzeszów, Polska</th>\n",
       "      <td>0.670659</td>\n",
       "      <td>13</td>\n",
       "      <td>3.688623</td>\n",
       "      <td>13</td>\n",
       "      <td>167</td>\n",
       "      <td>0.737725</td>\n",
       "    </tr>\n",
       "  </tbody>\n",
       "</table>\n",
       "</div>"
      ],
      "text/plain": [
       "                                                    model_opinion   \n",
       "address                                                             \n",
       "Aleja Majora Wacława Kopisto 1, 35-515 Rzeszów,...       0.968142  \\\n",
       "Podkarpacka 12A, 35-082 Rzeszów, Polska                  0.920000   \n",
       "Ignacego Łukasiewicza 78, 35-604 Rzeszów, Polska         0.896175   \n",
       "Hetmańska 42, 35-078 Rzeszów, Polska                     0.878906   \n",
       "Rynek 18, 35-064 Rzeszów, Polska                         0.834772   \n",
       "Witolda 8b, 35-302 Rzeszów, Polska                       0.820312   \n",
       "Leska 2, 35-505 Rzeszów, Polska                          0.814433   \n",
       "Generała Mariana Langiewicza 69, 35-021 Rzeszów...       0.802817   \n",
       "al. Tadeusza Rejtana 69, 35-001 Rzeszów, Polska          0.751634   \n",
       "Jana Matejki 16, 35-060 Rzeszów, Polska                  0.733612   \n",
       "Grunwaldzka 24, 35-068 Rzeszów, Polska                   0.724944   \n",
       "Obrońców Poczty Gdańskiej 14, 35-509 Rzeszów, P...       0.719880   \n",
       "Kwiatkowskiego, 35-311 Rzeszów, Polska                   0.670659   \n",
       "\n",
       "                                                    rank_opinion     stars   \n",
       "address                                                                      \n",
       "Aleja Majora Wacława Kopisto 1, 35-515 Rzeszów,...             1  4.883186  \\\n",
       "Podkarpacka 12A, 35-082 Rzeszów, Polska                        2  4.725714   \n",
       "Ignacego Łukasiewicza 78, 35-604 Rzeszów, Polska               3  4.573770   \n",
       "Hetmańska 42, 35-078 Rzeszów, Polska                           4  4.605469   \n",
       "Rynek 18, 35-064 Rzeszów, Polska                               5  4.368681   \n",
       "Witolda 8b, 35-302 Rzeszów, Polska                             6  4.281250   \n",
       "Leska 2, 35-505 Rzeszów, Polska                                7  4.311856   \n",
       "Generała Mariana Langiewicza 69, 35-021 Rzeszów...             8  4.239437   \n",
       "al. Tadeusza Rejtana 69, 35-001 Rzeszów, Polska                9  4.019608   \n",
       "Jana Matejki 16, 35-060 Rzeszów, Polska                       10  3.993026   \n",
       "Grunwaldzka 24, 35-068 Rzeszów, Polska                        11  4.027840   \n",
       "Obrońców Poczty Gdańskiej 14, 35-509 Rzeszów, P...            12  3.960843   \n",
       "Kwiatkowskiego, 35-311 Rzeszów, Polska                        13  3.688623   \n",
       "\n",
       "                                                    rank_stars   \n",
       "address                                                          \n",
       "Aleja Majora Wacława Kopisto 1, 35-515 Rzeszów,...           1  \\\n",
       "Podkarpacka 12A, 35-082 Rzeszów, Polska                      2   \n",
       "Ignacego Łukasiewicza 78, 35-604 Rzeszów, Polska             4   \n",
       "Hetmańska 42, 35-078 Rzeszów, Polska                         3   \n",
       "Rynek 18, 35-064 Rzeszów, Polska                             5   \n",
       "Witolda 8b, 35-302 Rzeszów, Polska                           7   \n",
       "Leska 2, 35-505 Rzeszów, Polska                              6   \n",
       "Generała Mariana Langiewicza 69, 35-021 Rzeszów...           8   \n",
       "al. Tadeusza Rejtana 69, 35-001 Rzeszów, Polska             10   \n",
       "Jana Matejki 16, 35-060 Rzeszów, Polska                     11   \n",
       "Grunwaldzka 24, 35-068 Rzeszów, Polska                       9   \n",
       "Obrońców Poczty Gdańskiej 14, 35-509 Rzeszów, P...          12   \n",
       "Kwiatkowskiego, 35-311 Rzeszów, Polska                      13   \n",
       "\n",
       "                                                    opinions_count   \n",
       "address                                                              \n",
       "Aleja Majora Wacława Kopisto 1, 35-515 Rzeszów,...             565  \\\n",
       "Podkarpacka 12A, 35-082 Rzeszów, Polska                        175   \n",
       "Ignacego Łukasiewicza 78, 35-604 Rzeszów, Polska               183   \n",
       "Hetmańska 42, 35-078 Rzeszów, Polska                           256   \n",
       "Rynek 18, 35-064 Rzeszów, Polska                               811   \n",
       "Witolda 8b, 35-302 Rzeszów, Polska                             128   \n",
       "Leska 2, 35-505 Rzeszów, Polska                                388   \n",
       "Generała Mariana Langiewicza 69, 35-021 Rzeszów...              71   \n",
       "al. Tadeusza Rejtana 69, 35-001 Rzeszów, Polska                153   \n",
       "Jana Matejki 16, 35-060 Rzeszów, Polska                        717   \n",
       "Grunwaldzka 24, 35-068 Rzeszów, Polska                         898   \n",
       "Obrońców Poczty Gdańskiej 14, 35-509 Rzeszów, P...             332   \n",
       "Kwiatkowskiego, 35-311 Rzeszów, Polska                         167   \n",
       "\n",
       "                                                    stars_normalized  \n",
       "address                                                               \n",
       "Aleja Majora Wacława Kopisto 1, 35-515 Rzeszów,...          0.976637  \n",
       "Podkarpacka 12A, 35-082 Rzeszów, Polska                     0.945143  \n",
       "Ignacego Łukasiewicza 78, 35-604 Rzeszów, Polska            0.914754  \n",
       "Hetmańska 42, 35-078 Rzeszów, Polska                        0.921094  \n",
       "Rynek 18, 35-064 Rzeszów, Polska                            0.873736  \n",
       "Witolda 8b, 35-302 Rzeszów, Polska                          0.856250  \n",
       "Leska 2, 35-505 Rzeszów, Polska                             0.862371  \n",
       "Generała Mariana Langiewicza 69, 35-021 Rzeszów...          0.847887  \n",
       "al. Tadeusza Rejtana 69, 35-001 Rzeszów, Polska             0.803922  \n",
       "Jana Matejki 16, 35-060 Rzeszów, Polska                     0.798605  \n",
       "Grunwaldzka 24, 35-068 Rzeszów, Polska                      0.805568  \n",
       "Obrońców Poczty Gdańskiej 14, 35-509 Rzeszów, P...          0.792169  \n",
       "Kwiatkowskiego, 35-311 Rzeszów, Polska                      0.737725  "
      ]
     },
     "execution_count": 28,
     "metadata": {},
     "output_type": "execute_result"
    }
   ],
   "source": [
    "merged_df.sort_values(by = 'rank_opinion')"
   ]
  },
  {
   "cell_type": "markdown",
   "id": "c01f9f57-34e4-4183-bd5e-72d5dc7b84bc",
   "metadata": {},
   "source": [
    "### 4.Zapisanie modelu i tokenizatora"
   ]
  },
  {
   "cell_type": "markdown",
   "id": "0c667d40-8b8c-4408-bd67-3bfb0f8666fb",
   "metadata": {},
   "source": [
    "#### 4.1 Model zapisywany w formacie .h5"
   ]
  },
  {
   "cell_type": "code",
   "execution_count": 29,
   "id": "2f23d782-2418-46c3-b1cc-24e838b21d76",
   "metadata": {
    "tags": []
   },
   "outputs": [
    {
     "name": "stderr",
     "output_type": "stream",
     "text": [
      "WARNING:absl:You are saving your model as an HDF5 file via `model.save()` or `keras.saving.save_model(model)`. This file format is considered legacy. We recommend using instead the native Keras format, e.g. `model.save('my_model.keras')` or `keras.saving.save_model(model, 'my_model.keras')`. \n"
     ]
    }
   ],
   "source": [
    "model.save(\"sentiment_model.h5\")"
   ]
  },
  {
   "cell_type": "markdown",
   "id": "554ee0c5-e17b-46f2-b7fe-7032d5ac4325",
   "metadata": {},
   "source": [
    "#### 4.2 Tokenizator zapisywany w formacie pickle"
   ]
  },
  {
   "cell_type": "code",
   "execution_count": 30,
   "id": "ad16d4c6-48fc-4c75-b008-e4a7f7ee0131",
   "metadata": {
    "tags": []
   },
   "outputs": [
    {
     "name": "stdout",
     "output_type": "stream",
     "text": [
      "Model i tokenizator zapisane.\n"
     ]
    }
   ],
   "source": [
    "with open(\"tokenizer.pkl\", \"wb\") as f:\n",
    "    pickle.dump(tokenizer, f)\n",
    "\n",
    "print(\"Model i tokenizator zapisane.\")"
   ]
  },
  {
   "cell_type": "markdown",
   "id": "ed837733-adda-43ea-aec3-21d97c1c1069",
   "metadata": {},
   "source": [
    "### 5. Wnioski oraz analiza otrzymanych rezultatów"
   ]
  },
  {
   "cell_type": "markdown",
   "id": "a6437285-a748-4e81-8d37-77fbc78010fb",
   "metadata": {},
   "source": [
    "#### 5.1 Wykresy\n",
    "Wizualizacja spadku loss w zależności od epok"
   ]
  },
  {
   "cell_type": "code",
   "execution_count": 31,
   "id": "d112d2f4-05aa-4390-92e8-be23d14255fb",
   "metadata": {},
   "outputs": [],
   "source": [
    "import matplotlib.pyplot as plt\n",
    "from sklearn.metrics import confusion_matrix, ConfusionMatrixDisplay"
   ]
  },
  {
   "cell_type": "code",
   "execution_count": 32,
   "id": "3c919add-1ca1-4425-8354-56c7c5673743",
   "metadata": {},
   "outputs": [
    {
     "data": {
      "image/png": "[encoded data removed]",
      "text/plain": [
       "<Figure size 864x360 with 2 Axes>"
      ]
     },
     "metadata": {
      "needs_background": "light"
     },
     "output_type": "display_data"
    }
   ],
   "source": [
    "# Wizualizacja loss i accuracy\n",
    "plt.figure(figsize = (12, 5))\n",
    "\n",
    "# Straty\n",
    "plt.subplot(1, 2, 1)\n",
    "plt.plot(history.history['loss'], label = 'Train Loss')\n",
    "plt.plot(history.history['val_loss'], label = 'Validation Loss')\n",
    "plt.title('Spadek Loss w zależności od epok')\n",
    "plt.xlabel('Epoki')\n",
    "plt.ylabel('Loss')\n",
    "plt.legend()\n",
    "\n",
    "# Dokładność\n",
    "plt.subplot(1, 2, 2)\n",
    "plt.plot(history.history['accuracy'], label = 'Train Accuracy')\n",
    "plt.plot(history.history['val_accuracy'], label = 'Validation Accuracy')\n",
    "plt.title('Dokładność modelu w zależności od epok')\n",
    "plt.xlabel('Epoki')\n",
    "plt.ylabel('Accuracy')\n",
    "plt.legend()\n",
    "\n",
    "plt.tight_layout()"
   ]
  },
  {
   "cell_type": "markdown",
   "id": "43aa966c-9b78-466e-b627-edf9a1d6fea4",
   "metadata": {},
   "source": [
    "Wizualizacja macierzy pomyłek"
   ]
  },
  {
   "cell_type": "code",
   "execution_count": 33,
   "id": "16d853ec-9968-4bf8-ade2-407d5f5ed54a",
   "metadata": {},
   "outputs": [
    {
     "data": {
      "image/png": "[encoded data removed]",
      "text/plain": [
       "<Figure size 432x288 with 2 Axes>"
      ]
     },
     "metadata": {
      "needs_background": "light"
     },
     "output_type": "display_data"
    }
   ],
   "source": [
    "# Macierz pomyłek\n",
    "cm = confusion_matrix(y_test, predictions)\n",
    "disp = ConfusionMatrixDisplay(confusion_matrix = cm, display_labels = ['Negative', 'Positive'])\n",
    "disp.plot(cmap=plt.cm.Blues)\n",
    "plt.title('Macierz Pomyłek')\n",
    "plt.show()"
   ]
  },
  {
   "cell_type": "markdown",
   "id": "31ea821c-cc92-46fe-9b1e-ee27ec2836ec",
   "metadata": {},
   "source": [
    "Ranking adresów z opiniami"
   ]
  },
  {
   "cell_type": "code",
   "execution_count": 34,
   "id": "d58addf7-23f3-4599-96a5-31241d3963c4",
   "metadata": {},
   "outputs": [
    {
     "data": {
      "image/png": "[encoded data removed]",
      "text/plain": [
       "<Figure size 720x432 with 1 Axes>"
      ]
     },
     "metadata": {
      "needs_background": "light"
     },
     "output_type": "display_data"
    }
   ],
   "source": [
    "# Histogram rankingów\n",
    "plt.figure(figsize = (10, 6))\n",
    "plt.bar(merged_df.index, merged_df['rank_opinion'], color = 'skyblue')\n",
    "plt.title('Ranking adresów według opinii')\n",
    "plt.xlabel('Adresy')\n",
    "plt.ylabel('Ranking')\n",
    "plt.xticks(rotation = 90)\n",
    "plt.tight_layout()\n",
    "plt.show()"
   ]
  },
  {
   "cell_type": "markdown",
   "id": "ac41b2fc-9bb5-47cf-af8a-a8611658a912",
   "metadata": {},
   "source": [
    "#### 5.2 Wnioski\n",
    "**Dobra wydajność modelu**:\n",
    "- Model bardzo dobrze poradził sobie z problemem analizy sentymentu w opiniach, co pozwoliło stworzyć ranking restauracji od najlepszej do najgorszej, który całkiem dobrze pokrywał się z oceną na stronie Google.\n",
    "- Model poradził sobie dobrze, ponieważ zastosowano dwukierunkowe warstwy LSTM, które mogą uchwycić zależności w danych zarówno w przód, jak i w tył.\n",
    "- Wykorzystanie warstwy osadzenia (embedding) umożliwiło reprezentację słów w sposób semantyczny, co zwiększyło skuteczność modelu.\n",
    "- Warstwy Dropout pomogły ograniczyć przeuczenie, co zwiększyło ogólną generalizację modelu na danych testowych.\n",
    "\n",
    "**Przetłumaczone dane**:\n",
    "- Tłumaczenie tekstów na język angielski (jeśli dane wejściowe były w innym języku) pozwoliło na skuteczniejsze użycie dostępnych modeli językowych i lepszą reprezentację danych tekstowych.\n",
    "\n",
    "**Dane wysokiej jakości**:\n",
    "- Wstępne przetwarzanie danych, takie jak usunięcie brakujących wartości i normalizacja, przyczyniło się do poprawy wyników\n"
   ]
  },
  {
   "cell_type": "markdown",
   "id": "f9fe387e-21b7-482d-b2a5-e1ec7f509a26",
   "metadata": {},
   "source": [
    "#### 5.3 Możliwe ulepszenia\n",
    "- **Rozbudowanie danych treningowych**:\n",
    "Zwiększenie ilości danych poprzez augmentację danych tekstowych, np. synonimiczne zamiany słów czy tłumaczenie w obu kierunkach (PL -> EN i EN -> PL).\n",
    "- **Fine-tuning modeli pretrenowanych**: \n",
    "Dostosowanie modelu językowego, np. BERT lub RoBERTa, zamiast trenowania modelu od podstaw.\n",
    "- **Hiperparametry**:\n",
    "Przeprowadzenie optymalizacji hiperparametrów, np. liczby jednostek LSTM, rozmiaru batcha czy współczynnika uczenia.\n",
    "- **Regularizacja**:\n",
    "Dodanie warstw Batch Normalization lub innego mechanizmu regularyzacji.\n",
    "- **Analiza kontekstowa:**\n",
    "Użycie zaawansowanych technik, takich jak Attention Mechanisms, aby lepiej uchwycić zależności kontekstowe w danych."
   ]
  },
  {
   "cell_type": "code",
   "execution_count": null,
   "id": "f1116cb7-b3f2-442f-844b-d33634f56d1c",
   "metadata": {},
   "outputs": [],
   "source": []
  }
 ],
 "metadata": {
  "kernelspec": {
   "display_name": "Python 3 (ipykernel)",
   "language": "python",
   "name": "python3"
  },
  "language_info": {
   "codemirror_mode": {
    "name": "ipython",
    "version": 3
   },
   "file_extension": ".py",
   "mimetype": "text/x-python",
   "name": "python",
   "nbconvert_exporter": "python",
   "pygments_lexer": "ipython3",
   "version": "3.11.3"
  }
 },
 "nbformat": 4,
 "nbformat_minor": 5
}
